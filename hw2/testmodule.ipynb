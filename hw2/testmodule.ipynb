{
 "cells": [
  {
   "cell_type": "code",
   "execution_count": 1,
   "id": "27cbfde5",
   "metadata": {},
   "outputs": [],
   "source": [
    "from model import ResNet50, Base"
   ]
  },
  {
   "cell_type": "code",
   "execution_count": 2,
   "id": "29e63495",
   "metadata": {},
   "outputs": [],
   "source": [
    "model=ResNet50()"
   ]
  },
  {
   "cell_type": "code",
   "execution_count": 3,
   "id": "ac4c39f9",
   "metadata": {},
   "outputs": [],
   "source": [
    "from torch import nn\n",
    "import torch.optim as optim\n",
    "import torchvision\n",
    "import torchvision.models as models\n",
    "from torchvision import transforms\n",
    "cnn=models.resnet50(pretrained=False)\n",
    "#cnn"
   ]
  },
  {
   "cell_type": "code",
   "execution_count": 4,
   "id": "b2ea74ad",
   "metadata": {},
   "outputs": [
    {
     "data": {
      "text/plain": [
       "Base(\n",
       "  (layer1): Sequential(\n",
       "    (0): Conv2d(1, 32, kernel_size=(3, 3), stride=(1, 1), padding=(1, 1))\n",
       "    (1): ReLU()\n",
       "    (2): MaxPool2d(kernel_size=2, stride=2, padding=0, dilation=1, ceil_mode=False)\n",
       "  )\n",
       "  (layer2): Sequential(\n",
       "    (0): Conv2d(32, 64, kernel_size=(3, 3), stride=(1, 1), padding=(1, 1))\n",
       "    (1): ReLU()\n",
       "    (2): MaxPool2d(kernel_size=2, stride=2, padding=0, dilation=1, ceil_mode=False)\n",
       "  )\n",
       "  (fc): Linear(in_features=3136, out_features=10, bias=True)\n",
       ")"
      ]
     },
     "execution_count": 4,
     "metadata": {},
     "output_type": "execute_result"
    }
   ],
   "source": [
    "base=Base()\n",
    "base"
   ]
  },
  {
   "cell_type": "code",
   "execution_count": 5,
   "id": "77b7e9bc",
   "metadata": {},
   "outputs": [],
   "source": [
    "from data import load_dataset, CannyDataset, get_dataloader"
   ]
  },
  {
   "cell_type": "code",
   "execution_count": 6,
   "id": "c7d24305",
   "metadata": {},
   "outputs": [],
   "source": [
    "tr,val,test=load_dataset()\n",
    "dataloaders=[]\n",
    "for dataset in [tr,val,test]:\n",
    "    new_dataset=CannyDataset(dataset)\n",
    "    dataloaders.append(get_dataloader(new_dataset))\n"
   ]
  },
  {
   "cell_type": "code",
   "execution_count": 7,
   "id": "63dd132b",
   "metadata": {},
   "outputs": [
    {
     "name": "stdout",
     "output_type": "stream",
     "text": [
      "tensor(8)\n"
     ]
    },
    {
     "data": {
      "text/plain": [
       "<matplotlib.image.AxesImage at 0x7fa34de59a10>"
      ]
     },
     "execution_count": 7,
     "metadata": {},
     "output_type": "execute_result"
    },
    {
     "data": {
      "image/png": "[encoded data removed]",
      "text/plain": [
       "<Figure size 432x288 with 1 Axes>"
      ]
     },
     "metadata": {
      "needs_background": "light"
     },
     "output_type": "display_data"
    }
   ],
   "source": [
    "from matplotlib import pyplot as plt\n",
    "x,y=next(iter(dataloaders[1]))\n",
    "print(y[0])\n",
    "plt.imshow(x[0].permute(1,2,0), cmap='gray')"
   ]
  }
 ],
 "metadata": {
  "kernelspec": {
   "display_name": "Python 3 (ipykernel)",
   "language": "python",
   "name": "python3"
  },
  "language_info": {
   "codemirror_mode": {
    "name": "ipython",
    "version": 3
   },
   "file_extension": ".py",
   "mimetype": "text/x-python",
   "name": "python",
   "nbconvert_exporter": "python",
   "pygments_lexer": "ipython3",
   "version": "3.7.11"
  }
 },
 "nbformat": 4,
 "nbformat_minor": 5
}
