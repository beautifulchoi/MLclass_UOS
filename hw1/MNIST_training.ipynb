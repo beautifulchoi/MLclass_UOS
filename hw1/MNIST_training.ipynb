{
 "cells": [
  {
   "cell_type": "code",
   "execution_count": 1,
   "id": "e03b13fd",
   "metadata": {},
   "outputs": [],
   "source": [
    "#https://skillmemory.tistory.com/entry/tqdm-%EC%82%AC%EC%9A%A9%EB%B2%95-python-%EC%A7%84%ED%96%89%EB%A5%A0-%ED%94%84%EB%A1%9C%EC%84%B8%EC%8A%A4%EB%B0%94\n",
    "#https://deep-learning-study.tistory.com/459\n",
    "#https://honeyjamtech.tistory.com/40\n",
    "#https://colab.research.google.com/github/kjamithash/Pytorch_DeepLearning_Experiments/blob/master/FashionMNIST_ResNet_TransferLearning.ipynb#scrollTo=m05rFpG5f5yn\n",
    "#https://pytorch.org/tutorials/beginner/basics/data_tutorial.html?highlight=mnist"
   ]
  },
  {
   "cell_type": "markdown",
   "id": "2765bc94",
   "metadata": {},
   "source": [
    "## MNIST 분류기 모델 작성 -> Resnet 이용\n",
    "1. dataload(dataset, dataloader)\n",
    "1. model layer 만들기 \n",
    "1. 학습코드(earlystopping)\n",
    "1. tensorboard 기록"
   ]
  },
  {
   "cell_type": "markdown",
   "id": "f86167cb",
   "metadata": {},
   "source": [
    "## download data & dataloader"
   ]
  },
  {
   "cell_type": "code",
   "execution_count": 2,
   "id": "017cc7ea",
   "metadata": {},
   "outputs": [],
   "source": [
    "import torch\n",
    "from torch.utils.data import Dataset\n",
    "from torchvision import datasets\n",
    "from torchvision.transforms import ToTensor\n",
    "import matplotlib.pyplot as plt\n",
    "\n",
    "\n",
    "training_data = datasets.MNIST(\n",
    "    root=\"data\",\n",
    "    train=True,\n",
    "    download=True,\n",
    "    transform=ToTensor()\n",
    ")\n",
    "\n",
    "test_data = datasets.MNIST(\n",
    "    root=\"data\",\n",
    "    train=False,\n",
    "    download=True,\n",
    "    transform=ToTensor()\n",
    ")"
   ]
  },
  {
   "cell_type": "code",
   "execution_count": 3,
   "id": "493c9873",
   "metadata": {
    "scrolled": true
   },
   "outputs": [
    {
     "data": {
      "image/png": "[encoded data removed]",
      "text/plain": [
       "<Figure size 576x576 with 9 Axes>"
      ]
     },
     "metadata": {
      "needs_background": "light"
     },
     "output_type": "display_data"
    }
   ],
   "source": [
    "figure = plt.figure(figsize=(8, 8))\n",
    "cols, rows = 3, 3\n",
    "for i in range(0, cols * rows ):\n",
    "    sample_idx = torch.randint(len(training_data), size=(1,)).item()\n",
    "    img, label = training_data[sample_idx]\n",
    "    figure.add_subplot(rows, cols, i+1)\n",
    "    plt.title(label)\n",
    "    plt.axis(\"off\")\n",
    "    plt.imshow(img.permute(1,2,0), cmap=\"gray\")\n",
    "plt.show()\n"
   ]
  },
  {
   "cell_type": "code",
   "execution_count": 4,
   "id": "4890bbdf",
   "metadata": {},
   "outputs": [],
   "source": [
    "from sklearn.model_selection import train_test_split\n",
    "from torch.utils.data import Subset,DataLoader\n",
    "# generate indices: instead of the actual data we pass in integers instead\n",
    "VAL_SIZE = 0.2\n",
    "\n",
    "train_indices, val_indices, _, _ = train_test_split(\n",
    "    range(len(training_data)),\n",
    "    training_data.targets,\n",
    "    stratify=training_data.targets,\n",
    "    test_size=VAL_SIZE,\n",
    ")\n",
    "\n",
    "# generate subset based on indices\n",
    "train_split = Subset(training_data, train_indices)\n",
    "val_split = Subset(training_data, val_indices)\n",
    "\n",
    "# create batches\n",
    "train_dataloader = DataLoader(train_split, batch_size=64, shuffle=True)\n",
    "val_dataloader = DataLoader(val_split, batch_size=64, shuffle=True)\n",
    "test_dataloader = DataLoader(test_data, batch_size=64, shuffle=True)"
   ]
  },
  {
   "cell_type": "code",
   "execution_count": 5,
   "id": "99e134be",
   "metadata": {},
   "outputs": [
    {
     "name": "stdout",
     "output_type": "stream",
     "text": [
      "Feature batch shape: torch.Size([64, 1, 28, 28])\n",
      "Labels batch shape: torch.Size([64])\n"
     ]
    },
    {
     "data": {
      "image/png": "[encoded data removed]",
      "text/plain": [
       "<Figure size 432x288 with 1 Axes>"
      ]
     },
     "metadata": {
      "needs_background": "light"
     },
     "output_type": "display_data"
    }
   ],
   "source": [
    "train_features, train_labels = next(iter(train_dataloader))\n",
    "print(f\"Feature batch shape: {train_features.size()}\")\n",
    "print(f\"Labels batch shape: {train_labels.size()}\")\n",
    "img = train_features[32].permute(1,2,0)\n",
    "label = train_labels[32]\n",
    "plt.title(label.item())\n",
    "plt.imshow(img, cmap=\"gray\")\n",
    "plt.show()"
   ]
  },
  {
   "cell_type": "code",
   "execution_count": 6,
   "id": "854d277d",
   "metadata": {},
   "outputs": [
    {
     "name": "stdout",
     "output_type": "stream",
     "text": [
      "Feature batch shape: torch.Size([64, 1, 28, 28])\n",
      "Labels batch shape: torch.Size([64])\n"
     ]
    },
    {
     "data": {
      "image/png": "[encoded data removed]",
      "text/plain": [
       "<Figure size 432x288 with 1 Axes>"
      ]
     },
     "metadata": {
      "needs_background": "light"
     },
     "output_type": "display_data"
    }
   ],
   "source": [
    "val_features, val_labels = next(iter(val_dataloader))\n",
    "print(f\"Feature batch shape: {val_features.size()}\")\n",
    "print(f\"Labels batch shape: {val_labels.size()}\")\n",
    "img = val_features[32].permute(1,2,0)\n",
    "label = val_labels[32]\n",
    "plt.title(label.item())\n",
    "plt.imshow(img, cmap=\"gray\")\n",
    "plt.show()"
   ]
  },
  {
   "cell_type": "markdown",
   "id": "6c4714e2",
   "metadata": {},
   "source": [
    "## model 정의"
   ]
  },
  {
   "cell_type": "code",
   "execution_count": 7,
   "id": "7717166e",
   "metadata": {},
   "outputs": [],
   "source": [
    "import torch.nn as nn\n",
    "import torch.optim as optim\n",
    "import torchvision\n",
    "import torchvision.models as models\n",
    "from torchvision import transforms"
   ]
  },
  {
   "cell_type": "code",
   "execution_count": 8,
   "id": "17d507de",
   "metadata": {},
   "outputs": [
    {
     "name": "stdout",
     "output_type": "stream",
     "text": [
      "Using cuda device\n"
     ]
    }
   ],
   "source": [
    "device = \"cuda\" if torch.cuda.is_available() else \"cpu\"\n",
    "print(f\"Using {device} device\")"
   ]
  },
  {
   "cell_type": "code",
   "execution_count": 255,
   "id": "f84b14b3",
   "metadata": {},
   "outputs": [],
   "source": [
    "class Base(nn.Module):\n",
    "    def __init__(self):\n",
    "        super(Base, self).__init__()\n",
    "        self.flatten = nn.Flatten()\n",
    "        self.linear_relu_stack = nn.Sequential(\n",
    "            nn.Linear(28*28, 512),\n",
    "            nn.ReLU(),\n",
    "            nn.Linear(512, 512),\n",
    "            nn.ReLU(),\n",
    "            nn.Linear(512, 10),\n",
    "        )\n",
    "\n",
    "    def forward(self, x):\n",
    "        x = self.flatten(x)\n",
    "        logits = self.linear_relu_stack(x)\n",
    "        return logits\n",
    "base=Base()\n",
    "base=base.to(device)"
   ]
  },
  {
   "cell_type": "code",
   "execution_count": 9,
   "id": "acd7384f",
   "metadata": {},
   "outputs": [],
   "source": [
    "class MNISTResNet(nn.Module):\n",
    "    def __init__(self, model,in_channels=1, num_classes=10):\n",
    "        super(MNISTResNet, self).__init__()\n",
    "        self.model=model\n",
    "        self.num_classes=num_classes\n",
    "        self.model.conv1 = nn.Conv2d(in_channels, 64, kernel_size=7, stride=2, padding=3, bias=False)\n",
    "    \n",
    "        # Change the output layer to output 10 classes instead of 1000 classes\n",
    "        fc_in = self.model.fc.in_features\n",
    "        self.model.fc = nn.Linear(fc_in, 10)\n",
    "\n",
    "    def forward(self, x):\n",
    "        return self.model(x)\n",
    "\n",
    "model=models.resnet50(pretrained=False)\n",
    "model = MNISTResNet(model)\n"
   ]
  },
  {
   "cell_type": "code",
   "execution_count": 10,
   "id": "67ec0159",
   "metadata": {},
   "outputs": [
    {
     "data": {
      "text/plain": [
       "MNISTResNet(\n",
       "  (model): ResNet(\n",
       "    (conv1): Conv2d(1, 64, kernel_size=(7, 7), stride=(2, 2), padding=(3, 3), bias=False)\n",
       "    (bn1): BatchNorm2d(64, eps=1e-05, momentum=0.1, affine=True, track_running_stats=True)\n",
       "    (relu): ReLU(inplace=True)\n",
       "    (maxpool): MaxPool2d(kernel_size=3, stride=2, padding=1, dilation=1, ceil_mode=False)\n",
       "    (layer1): Sequential(\n",
       "      (0): Bottleneck(\n",
       "        (conv1): Conv2d(64, 64, kernel_size=(1, 1), stride=(1, 1), bias=False)\n",
       "        (bn1): BatchNorm2d(64, eps=1e-05, momentum=0.1, affine=True, track_running_stats=True)\n",
       "        (conv2): Conv2d(64, 64, kernel_size=(3, 3), stride=(1, 1), padding=(1, 1), bias=False)\n",
       "        (bn2): BatchNorm2d(64, eps=1e-05, momentum=0.1, affine=True, track_running_stats=True)\n",
       "        (conv3): Conv2d(64, 256, kernel_size=(1, 1), stride=(1, 1), bias=False)\n",
       "        (bn3): BatchNorm2d(256, eps=1e-05, momentum=0.1, affine=True, track_running_stats=True)\n",
       "        (relu): ReLU(inplace=True)\n",
       "        (downsample): Sequential(\n",
       "          (0): Conv2d(64, 256, kernel_size=(1, 1), stride=(1, 1), bias=False)\n",
       "          (1): BatchNorm2d(256, eps=1e-05, momentum=0.1, affine=True, track_running_stats=True)\n",
       "        )\n",
       "      )\n",
       "      (1): Bottleneck(\n",
       "        (conv1): Conv2d(256, 64, kernel_size=(1, 1), stride=(1, 1), bias=False)\n",
       "        (bn1): BatchNorm2d(64, eps=1e-05, momentum=0.1, affine=True, track_running_stats=True)\n",
       "        (conv2): Conv2d(64, 64, kernel_size=(3, 3), stride=(1, 1), padding=(1, 1), bias=False)\n",
       "        (bn2): BatchNorm2d(64, eps=1e-05, momentum=0.1, affine=True, track_running_stats=True)\n",
       "        (conv3): Conv2d(64, 256, kernel_size=(1, 1), stride=(1, 1), bias=False)\n",
       "        (bn3): BatchNorm2d(256, eps=1e-05, momentum=0.1, affine=True, track_running_stats=True)\n",
       "        (relu): ReLU(inplace=True)\n",
       "      )\n",
       "      (2): Bottleneck(\n",
       "        (conv1): Conv2d(256, 64, kernel_size=(1, 1), stride=(1, 1), bias=False)\n",
       "        (bn1): BatchNorm2d(64, eps=1e-05, momentum=0.1, affine=True, track_running_stats=True)\n",
       "        (conv2): Conv2d(64, 64, kernel_size=(3, 3), stride=(1, 1), padding=(1, 1), bias=False)\n",
       "        (bn2): BatchNorm2d(64, eps=1e-05, momentum=0.1, affine=True, track_running_stats=True)\n",
       "        (conv3): Conv2d(64, 256, kernel_size=(1, 1), stride=(1, 1), bias=False)\n",
       "        (bn3): BatchNorm2d(256, eps=1e-05, momentum=0.1, affine=True, track_running_stats=True)\n",
       "        (relu): ReLU(inplace=True)\n",
       "      )\n",
       "    )\n",
       "    (layer2): Sequential(\n",
       "      (0): Bottleneck(\n",
       "        (conv1): Conv2d(256, 128, kernel_size=(1, 1), stride=(1, 1), bias=False)\n",
       "        (bn1): BatchNorm2d(128, eps=1e-05, momentum=0.1, affine=True, track_running_stats=True)\n",
       "        (conv2): Conv2d(128, 128, kernel_size=(3, 3), stride=(2, 2), padding=(1, 1), bias=False)\n",
       "        (bn2): BatchNorm2d(128, eps=1e-05, momentum=0.1, affine=True, track_running_stats=True)\n",
       "        (conv3): Conv2d(128, 512, kernel_size=(1, 1), stride=(1, 1), bias=False)\n",
       "        (bn3): BatchNorm2d(512, eps=1e-05, momentum=0.1, affine=True, track_running_stats=True)\n",
       "        (relu): ReLU(inplace=True)\n",
       "        (downsample): Sequential(\n",
       "          (0): Conv2d(256, 512, kernel_size=(1, 1), stride=(2, 2), bias=False)\n",
       "          (1): BatchNorm2d(512, eps=1e-05, momentum=0.1, affine=True, track_running_stats=True)\n",
       "        )\n",
       "      )\n",
       "      (1): Bottleneck(\n",
       "        (conv1): Conv2d(512, 128, kernel_size=(1, 1), stride=(1, 1), bias=False)\n",
       "        (bn1): BatchNorm2d(128, eps=1e-05, momentum=0.1, affine=True, track_running_stats=True)\n",
       "        (conv2): Conv2d(128, 128, kernel_size=(3, 3), stride=(1, 1), padding=(1, 1), bias=False)\n",
       "        (bn2): BatchNorm2d(128, eps=1e-05, momentum=0.1, affine=True, track_running_stats=True)\n",
       "        (conv3): Conv2d(128, 512, kernel_size=(1, 1), stride=(1, 1), bias=False)\n",
       "        (bn3): BatchNorm2d(512, eps=1e-05, momentum=0.1, affine=True, track_running_stats=True)\n",
       "        (relu): ReLU(inplace=True)\n",
       "      )\n",
       "      (2): Bottleneck(\n",
       "        (conv1): Conv2d(512, 128, kernel_size=(1, 1), stride=(1, 1), bias=False)\n",
       "        (bn1): BatchNorm2d(128, eps=1e-05, momentum=0.1, affine=True, track_running_stats=True)\n",
       "        (conv2): Conv2d(128, 128, kernel_size=(3, 3), stride=(1, 1), padding=(1, 1), bias=False)\n",
       "        (bn2): BatchNorm2d(128, eps=1e-05, momentum=0.1, affine=True, track_running_stats=True)\n",
       "        (conv3): Conv2d(128, 512, kernel_size=(1, 1), stride=(1, 1), bias=False)\n",
       "        (bn3): BatchNorm2d(512, eps=1e-05, momentum=0.1, affine=True, track_running_stats=True)\n",
       "        (relu): ReLU(inplace=True)\n",
       "      )\n",
       "      (3): Bottleneck(\n",
       "        (conv1): Conv2d(512, 128, kernel_size=(1, 1), stride=(1, 1), bias=False)\n",
       "        (bn1): BatchNorm2d(128, eps=1e-05, momentum=0.1, affine=True, track_running_stats=True)\n",
       "        (conv2): Conv2d(128, 128, kernel_size=(3, 3), stride=(1, 1), padding=(1, 1), bias=False)\n",
       "        (bn2): BatchNorm2d(128, eps=1e-05, momentum=0.1, affine=True, track_running_stats=True)\n",
       "        (conv3): Conv2d(128, 512, kernel_size=(1, 1), stride=(1, 1), bias=False)\n",
       "        (bn3): BatchNorm2d(512, eps=1e-05, momentum=0.1, affine=True, track_running_stats=True)\n",
       "        (relu): ReLU(inplace=True)\n",
       "      )\n",
       "    )\n",
       "    (layer3): Sequential(\n",
       "      (0): Bottleneck(\n",
       "        (conv1): Conv2d(512, 256, kernel_size=(1, 1), stride=(1, 1), bias=False)\n",
       "        (bn1): BatchNorm2d(256, eps=1e-05, momentum=0.1, affine=True, track_running_stats=True)\n",
       "        (conv2): Conv2d(256, 256, kernel_size=(3, 3), stride=(2, 2), padding=(1, 1), bias=False)\n",
       "        (bn2): BatchNorm2d(256, eps=1e-05, momentum=0.1, affine=True, track_running_stats=True)\n",
       "        (conv3): Conv2d(256, 1024, kernel_size=(1, 1), stride=(1, 1), bias=False)\n",
       "        (bn3): BatchNorm2d(1024, eps=1e-05, momentum=0.1, affine=True, track_running_stats=True)\n",
       "        (relu): ReLU(inplace=True)\n",
       "        (downsample): Sequential(\n",
       "          (0): Conv2d(512, 1024, kernel_size=(1, 1), stride=(2, 2), bias=False)\n",
       "          (1): BatchNorm2d(1024, eps=1e-05, momentum=0.1, affine=True, track_running_stats=True)\n",
       "        )\n",
       "      )\n",
       "      (1): Bottleneck(\n",
       "        (conv1): Conv2d(1024, 256, kernel_size=(1, 1), stride=(1, 1), bias=False)\n",
       "        (bn1): BatchNorm2d(256, eps=1e-05, momentum=0.1, affine=True, track_running_stats=True)\n",
       "        (conv2): Conv2d(256, 256, kernel_size=(3, 3), stride=(1, 1), padding=(1, 1), bias=False)\n",
       "        (bn2): BatchNorm2d(256, eps=1e-05, momentum=0.1, affine=True, track_running_stats=True)\n",
       "        (conv3): Conv2d(256, 1024, kernel_size=(1, 1), stride=(1, 1), bias=False)\n",
       "        (bn3): BatchNorm2d(1024, eps=1e-05, momentum=0.1, affine=True, track_running_stats=True)\n",
       "        (relu): ReLU(inplace=True)\n",
       "      )\n",
       "      (2): Bottleneck(\n",
       "        (conv1): Conv2d(1024, 256, kernel_size=(1, 1), stride=(1, 1), bias=False)\n",
       "        (bn1): BatchNorm2d(256, eps=1e-05, momentum=0.1, affine=True, track_running_stats=True)\n",
       "        (conv2): Conv2d(256, 256, kernel_size=(3, 3), stride=(1, 1), padding=(1, 1), bias=False)\n",
       "        (bn2): BatchNorm2d(256, eps=1e-05, momentum=0.1, affine=True, track_running_stats=True)\n",
       "        (conv3): Conv2d(256, 1024, kernel_size=(1, 1), stride=(1, 1), bias=False)\n",
       "        (bn3): BatchNorm2d(1024, eps=1e-05, momentum=0.1, affine=True, track_running_stats=True)\n",
       "        (relu): ReLU(inplace=True)\n",
       "      )\n",
       "      (3): Bottleneck(\n",
       "        (conv1): Conv2d(1024, 256, kernel_size=(1, 1), stride=(1, 1), bias=False)\n",
       "        (bn1): BatchNorm2d(256, eps=1e-05, momentum=0.1, affine=True, track_running_stats=True)\n",
       "        (conv2): Conv2d(256, 256, kernel_size=(3, 3), stride=(1, 1), padding=(1, 1), bias=False)\n",
       "        (bn2): BatchNorm2d(256, eps=1e-05, momentum=0.1, affine=True, track_running_stats=True)\n",
       "        (conv3): Conv2d(256, 1024, kernel_size=(1, 1), stride=(1, 1), bias=False)\n",
       "        (bn3): BatchNorm2d(1024, eps=1e-05, momentum=0.1, affine=True, track_running_stats=True)\n",
       "        (relu): ReLU(inplace=True)\n",
       "      )\n",
       "      (4): Bottleneck(\n",
       "        (conv1): Conv2d(1024, 256, kernel_size=(1, 1), stride=(1, 1), bias=False)\n",
       "        (bn1): BatchNorm2d(256, eps=1e-05, momentum=0.1, affine=True, track_running_stats=True)\n",
       "        (conv2): Conv2d(256, 256, kernel_size=(3, 3), stride=(1, 1), padding=(1, 1), bias=False)\n",
       "        (bn2): BatchNorm2d(256, eps=1e-05, momentum=0.1, affine=True, track_running_stats=True)\n",
       "        (conv3): Conv2d(256, 1024, kernel_size=(1, 1), stride=(1, 1), bias=False)\n",
       "        (bn3): BatchNorm2d(1024, eps=1e-05, momentum=0.1, affine=True, track_running_stats=True)\n",
       "        (relu): ReLU(inplace=True)\n",
       "      )\n",
       "      (5): Bottleneck(\n",
       "        (conv1): Conv2d(1024, 256, kernel_size=(1, 1), stride=(1, 1), bias=False)\n",
       "        (bn1): BatchNorm2d(256, eps=1e-05, momentum=0.1, affine=True, track_running_stats=True)\n",
       "        (conv2): Conv2d(256, 256, kernel_size=(3, 3), stride=(1, 1), padding=(1, 1), bias=False)\n",
       "        (bn2): BatchNorm2d(256, eps=1e-05, momentum=0.1, affine=True, track_running_stats=True)\n",
       "        (conv3): Conv2d(256, 1024, kernel_size=(1, 1), stride=(1, 1), bias=False)\n",
       "        (bn3): BatchNorm2d(1024, eps=1e-05, momentum=0.1, affine=True, track_running_stats=True)\n",
       "        (relu): ReLU(inplace=True)\n",
       "      )\n",
       "    )\n",
       "    (layer4): Sequential(\n",
       "      (0): Bottleneck(\n",
       "        (conv1): Conv2d(1024, 512, kernel_size=(1, 1), stride=(1, 1), bias=False)\n",
       "        (bn1): BatchNorm2d(512, eps=1e-05, momentum=0.1, affine=True, track_running_stats=True)\n",
       "        (conv2): Conv2d(512, 512, kernel_size=(3, 3), stride=(2, 2), padding=(1, 1), bias=False)\n",
       "        (bn2): BatchNorm2d(512, eps=1e-05, momentum=0.1, affine=True, track_running_stats=True)\n",
       "        (conv3): Conv2d(512, 2048, kernel_size=(1, 1), stride=(1, 1), bias=False)\n",
       "        (bn3): BatchNorm2d(2048, eps=1e-05, momentum=0.1, affine=True, track_running_stats=True)\n",
       "        (relu): ReLU(inplace=True)\n",
       "        (downsample): Sequential(\n",
       "          (0): Conv2d(1024, 2048, kernel_size=(1, 1), stride=(2, 2), bias=False)\n",
       "          (1): BatchNorm2d(2048, eps=1e-05, momentum=0.1, affine=True, track_running_stats=True)\n",
       "        )\n",
       "      )\n",
       "      (1): Bottleneck(\n",
       "        (conv1): Conv2d(2048, 512, kernel_size=(1, 1), stride=(1, 1), bias=False)\n",
       "        (bn1): BatchNorm2d(512, eps=1e-05, momentum=0.1, affine=True, track_running_stats=True)\n",
       "        (conv2): Conv2d(512, 512, kernel_size=(3, 3), stride=(1, 1), padding=(1, 1), bias=False)\n",
       "        (bn2): BatchNorm2d(512, eps=1e-05, momentum=0.1, affine=True, track_running_stats=True)\n",
       "        (conv3): Conv2d(512, 2048, kernel_size=(1, 1), stride=(1, 1), bias=False)\n",
       "        (bn3): BatchNorm2d(2048, eps=1e-05, momentum=0.1, affine=True, track_running_stats=True)\n",
       "        (relu): ReLU(inplace=True)\n",
       "      )\n",
       "      (2): Bottleneck(\n",
       "        (conv1): Conv2d(2048, 512, kernel_size=(1, 1), stride=(1, 1), bias=False)\n",
       "        (bn1): BatchNorm2d(512, eps=1e-05, momentum=0.1, affine=True, track_running_stats=True)\n",
       "        (conv2): Conv2d(512, 512, kernel_size=(3, 3), stride=(1, 1), padding=(1, 1), bias=False)\n",
       "        (bn2): BatchNorm2d(512, eps=1e-05, momentum=0.1, affine=True, track_running_stats=True)\n",
       "        (conv3): Conv2d(512, 2048, kernel_size=(1, 1), stride=(1, 1), bias=False)\n",
       "        (bn3): BatchNorm2d(2048, eps=1e-05, momentum=0.1, affine=True, track_running_stats=True)\n",
       "        (relu): ReLU(inplace=True)\n",
       "      )\n",
       "    )\n",
       "    (avgpool): AdaptiveAvgPool2d(output_size=(1, 1))\n",
       "    (fc): Linear(in_features=2048, out_features=10, bias=True)\n",
       "  )\n",
       ")"
      ]
     },
     "execution_count": 10,
     "metadata": {},
     "output_type": "execute_result"
    }
   ],
   "source": [
    "model"
   ]
  },
  {
   "cell_type": "code",
   "execution_count": 11,
   "id": "70beaccd",
   "metadata": {},
   "outputs": [
    {
     "name": "stdout",
     "output_type": "stream",
     "text": [
      "----------------------------------------------------------------\n",
      "        Layer (type)               Output Shape         Param #\n",
      "================================================================\n",
      "            Conv2d-1           [-1, 64, 14, 14]           3,136\n",
      "       BatchNorm2d-2           [-1, 64, 14, 14]             128\n",
      "              ReLU-3           [-1, 64, 14, 14]               0\n",
      "         MaxPool2d-4             [-1, 64, 7, 7]               0\n",
      "            Conv2d-5             [-1, 64, 7, 7]           4,096\n",
      "       BatchNorm2d-6             [-1, 64, 7, 7]             128\n",
      "              ReLU-7             [-1, 64, 7, 7]               0\n",
      "            Conv2d-8             [-1, 64, 7, 7]          36,864\n",
      "       BatchNorm2d-9             [-1, 64, 7, 7]             128\n",
      "             ReLU-10             [-1, 64, 7, 7]               0\n",
      "           Conv2d-11            [-1, 256, 7, 7]          16,384\n",
      "      BatchNorm2d-12            [-1, 256, 7, 7]             512\n",
      "           Conv2d-13            [-1, 256, 7, 7]          16,384\n",
      "      BatchNorm2d-14            [-1, 256, 7, 7]             512\n",
      "             ReLU-15            [-1, 256, 7, 7]               0\n",
      "       Bottleneck-16            [-1, 256, 7, 7]               0\n",
      "           Conv2d-17             [-1, 64, 7, 7]          16,384\n",
      "      BatchNorm2d-18             [-1, 64, 7, 7]             128\n",
      "             ReLU-19             [-1, 64, 7, 7]               0\n",
      "           Conv2d-20             [-1, 64, 7, 7]          36,864\n",
      "      BatchNorm2d-21             [-1, 64, 7, 7]             128\n",
      "             ReLU-22             [-1, 64, 7, 7]               0\n",
      "           Conv2d-23            [-1, 256, 7, 7]          16,384\n",
      "      BatchNorm2d-24            [-1, 256, 7, 7]             512\n",
      "             ReLU-25            [-1, 256, 7, 7]               0\n",
      "       Bottleneck-26            [-1, 256, 7, 7]               0\n",
      "           Conv2d-27             [-1, 64, 7, 7]          16,384\n",
      "      BatchNorm2d-28             [-1, 64, 7, 7]             128\n",
      "             ReLU-29             [-1, 64, 7, 7]               0\n",
      "           Conv2d-30             [-1, 64, 7, 7]          36,864\n",
      "      BatchNorm2d-31             [-1, 64, 7, 7]             128\n",
      "             ReLU-32             [-1, 64, 7, 7]               0\n",
      "           Conv2d-33            [-1, 256, 7, 7]          16,384\n",
      "      BatchNorm2d-34            [-1, 256, 7, 7]             512\n",
      "             ReLU-35            [-1, 256, 7, 7]               0\n",
      "       Bottleneck-36            [-1, 256, 7, 7]               0\n",
      "           Conv2d-37            [-1, 128, 7, 7]          32,768\n",
      "      BatchNorm2d-38            [-1, 128, 7, 7]             256\n",
      "             ReLU-39            [-1, 128, 7, 7]               0\n",
      "           Conv2d-40            [-1, 128, 4, 4]         147,456\n",
      "      BatchNorm2d-41            [-1, 128, 4, 4]             256\n",
      "             ReLU-42            [-1, 128, 4, 4]               0\n",
      "           Conv2d-43            [-1, 512, 4, 4]          65,536\n",
      "      BatchNorm2d-44            [-1, 512, 4, 4]           1,024\n",
      "           Conv2d-45            [-1, 512, 4, 4]         131,072\n",
      "      BatchNorm2d-46            [-1, 512, 4, 4]           1,024\n",
      "             ReLU-47            [-1, 512, 4, 4]               0\n",
      "       Bottleneck-48            [-1, 512, 4, 4]               0\n",
      "           Conv2d-49            [-1, 128, 4, 4]          65,536\n",
      "      BatchNorm2d-50            [-1, 128, 4, 4]             256\n",
      "             ReLU-51            [-1, 128, 4, 4]               0\n",
      "           Conv2d-52            [-1, 128, 4, 4]         147,456\n",
      "      BatchNorm2d-53            [-1, 128, 4, 4]             256\n",
      "             ReLU-54            [-1, 128, 4, 4]               0\n",
      "           Conv2d-55            [-1, 512, 4, 4]          65,536\n",
      "      BatchNorm2d-56            [-1, 512, 4, 4]           1,024\n",
      "             ReLU-57            [-1, 512, 4, 4]               0\n",
      "       Bottleneck-58            [-1, 512, 4, 4]               0\n",
      "           Conv2d-59            [-1, 128, 4, 4]          65,536\n",
      "      BatchNorm2d-60            [-1, 128, 4, 4]             256\n",
      "             ReLU-61            [-1, 128, 4, 4]               0\n",
      "           Conv2d-62            [-1, 128, 4, 4]         147,456\n",
      "      BatchNorm2d-63            [-1, 128, 4, 4]             256\n",
      "             ReLU-64            [-1, 128, 4, 4]               0\n",
      "           Conv2d-65            [-1, 512, 4, 4]          65,536\n",
      "      BatchNorm2d-66            [-1, 512, 4, 4]           1,024\n",
      "             ReLU-67            [-1, 512, 4, 4]               0\n",
      "       Bottleneck-68            [-1, 512, 4, 4]               0\n",
      "           Conv2d-69            [-1, 128, 4, 4]          65,536\n",
      "      BatchNorm2d-70            [-1, 128, 4, 4]             256\n",
      "             ReLU-71            [-1, 128, 4, 4]               0\n",
      "           Conv2d-72            [-1, 128, 4, 4]         147,456\n",
      "      BatchNorm2d-73            [-1, 128, 4, 4]             256\n",
      "             ReLU-74            [-1, 128, 4, 4]               0\n",
      "           Conv2d-75            [-1, 512, 4, 4]          65,536\n",
      "      BatchNorm2d-76            [-1, 512, 4, 4]           1,024\n",
      "             ReLU-77            [-1, 512, 4, 4]               0\n",
      "       Bottleneck-78            [-1, 512, 4, 4]               0\n",
      "           Conv2d-79            [-1, 256, 4, 4]         131,072\n",
      "      BatchNorm2d-80            [-1, 256, 4, 4]             512\n",
      "             ReLU-81            [-1, 256, 4, 4]               0\n",
      "           Conv2d-82            [-1, 256, 2, 2]         589,824\n",
      "      BatchNorm2d-83            [-1, 256, 2, 2]             512\n",
      "             ReLU-84            [-1, 256, 2, 2]               0\n",
      "           Conv2d-85           [-1, 1024, 2, 2]         262,144\n",
      "      BatchNorm2d-86           [-1, 1024, 2, 2]           2,048\n",
      "           Conv2d-87           [-1, 1024, 2, 2]         524,288\n",
      "      BatchNorm2d-88           [-1, 1024, 2, 2]           2,048\n",
      "             ReLU-89           [-1, 1024, 2, 2]               0\n",
      "       Bottleneck-90           [-1, 1024, 2, 2]               0\n",
      "           Conv2d-91            [-1, 256, 2, 2]         262,144\n",
      "      BatchNorm2d-92            [-1, 256, 2, 2]             512\n",
      "             ReLU-93            [-1, 256, 2, 2]               0\n",
      "           Conv2d-94            [-1, 256, 2, 2]         589,824\n",
      "      BatchNorm2d-95            [-1, 256, 2, 2]             512\n",
      "             ReLU-96            [-1, 256, 2, 2]               0\n",
      "           Conv2d-97           [-1, 1024, 2, 2]         262,144\n",
      "      BatchNorm2d-98           [-1, 1024, 2, 2]           2,048\n",
      "             ReLU-99           [-1, 1024, 2, 2]               0\n",
      "      Bottleneck-100           [-1, 1024, 2, 2]               0\n",
      "          Conv2d-101            [-1, 256, 2, 2]         262,144\n",
      "     BatchNorm2d-102            [-1, 256, 2, 2]             512\n",
      "            ReLU-103            [-1, 256, 2, 2]               0\n",
      "          Conv2d-104            [-1, 256, 2, 2]         589,824\n",
      "     BatchNorm2d-105            [-1, 256, 2, 2]             512\n",
      "            ReLU-106            [-1, 256, 2, 2]               0\n",
      "          Conv2d-107           [-1, 1024, 2, 2]         262,144\n",
      "     BatchNorm2d-108           [-1, 1024, 2, 2]           2,048\n",
      "            ReLU-109           [-1, 1024, 2, 2]               0\n",
      "      Bottleneck-110           [-1, 1024, 2, 2]               0\n",
      "          Conv2d-111            [-1, 256, 2, 2]         262,144\n",
      "     BatchNorm2d-112            [-1, 256, 2, 2]             512\n",
      "            ReLU-113            [-1, 256, 2, 2]               0\n",
      "          Conv2d-114            [-1, 256, 2, 2]         589,824\n",
      "     BatchNorm2d-115            [-1, 256, 2, 2]             512\n",
      "            ReLU-116            [-1, 256, 2, 2]               0\n",
      "          Conv2d-117           [-1, 1024, 2, 2]         262,144\n",
      "     BatchNorm2d-118           [-1, 1024, 2, 2]           2,048\n",
      "            ReLU-119           [-1, 1024, 2, 2]               0\n",
      "      Bottleneck-120           [-1, 1024, 2, 2]               0\n",
      "          Conv2d-121            [-1, 256, 2, 2]         262,144\n",
      "     BatchNorm2d-122            [-1, 256, 2, 2]             512\n",
      "            ReLU-123            [-1, 256, 2, 2]               0\n",
      "          Conv2d-124            [-1, 256, 2, 2]         589,824\n",
      "     BatchNorm2d-125            [-1, 256, 2, 2]             512\n",
      "            ReLU-126            [-1, 256, 2, 2]               0\n",
      "          Conv2d-127           [-1, 1024, 2, 2]         262,144\n",
      "     BatchNorm2d-128           [-1, 1024, 2, 2]           2,048\n",
      "            ReLU-129           [-1, 1024, 2, 2]               0\n",
      "      Bottleneck-130           [-1, 1024, 2, 2]               0\n",
      "          Conv2d-131            [-1, 256, 2, 2]         262,144\n",
      "     BatchNorm2d-132            [-1, 256, 2, 2]             512\n",
      "            ReLU-133            [-1, 256, 2, 2]               0\n",
      "          Conv2d-134            [-1, 256, 2, 2]         589,824\n",
      "     BatchNorm2d-135            [-1, 256, 2, 2]             512\n",
      "            ReLU-136            [-1, 256, 2, 2]               0\n",
      "          Conv2d-137           [-1, 1024, 2, 2]         262,144\n",
      "     BatchNorm2d-138           [-1, 1024, 2, 2]           2,048\n",
      "            ReLU-139           [-1, 1024, 2, 2]               0\n",
      "      Bottleneck-140           [-1, 1024, 2, 2]               0\n",
      "          Conv2d-141            [-1, 512, 2, 2]         524,288\n",
      "     BatchNorm2d-142            [-1, 512, 2, 2]           1,024\n",
      "            ReLU-143            [-1, 512, 2, 2]               0\n",
      "          Conv2d-144            [-1, 512, 1, 1]       2,359,296\n",
      "     BatchNorm2d-145            [-1, 512, 1, 1]           1,024\n",
      "            ReLU-146            [-1, 512, 1, 1]               0\n",
      "          Conv2d-147           [-1, 2048, 1, 1]       1,048,576\n",
      "     BatchNorm2d-148           [-1, 2048, 1, 1]           4,096\n",
      "          Conv2d-149           [-1, 2048, 1, 1]       2,097,152\n",
      "     BatchNorm2d-150           [-1, 2048, 1, 1]           4,096\n",
      "            ReLU-151           [-1, 2048, 1, 1]               0\n",
      "      Bottleneck-152           [-1, 2048, 1, 1]               0\n",
      "          Conv2d-153            [-1, 512, 1, 1]       1,048,576\n",
      "     BatchNorm2d-154            [-1, 512, 1, 1]           1,024\n",
      "            ReLU-155            [-1, 512, 1, 1]               0\n",
      "          Conv2d-156            [-1, 512, 1, 1]       2,359,296\n",
      "     BatchNorm2d-157            [-1, 512, 1, 1]           1,024\n",
      "            ReLU-158            [-1, 512, 1, 1]               0\n",
      "          Conv2d-159           [-1, 2048, 1, 1]       1,048,576\n",
      "     BatchNorm2d-160           [-1, 2048, 1, 1]           4,096\n",
      "            ReLU-161           [-1, 2048, 1, 1]               0\n",
      "      Bottleneck-162           [-1, 2048, 1, 1]               0\n",
      "          Conv2d-163            [-1, 512, 1, 1]       1,048,576\n",
      "     BatchNorm2d-164            [-1, 512, 1, 1]           1,024\n",
      "            ReLU-165            [-1, 512, 1, 1]               0\n",
      "          Conv2d-166            [-1, 512, 1, 1]       2,359,296\n",
      "     BatchNorm2d-167            [-1, 512, 1, 1]           1,024\n",
      "            ReLU-168            [-1, 512, 1, 1]               0\n",
      "          Conv2d-169           [-1, 2048, 1, 1]       1,048,576\n",
      "     BatchNorm2d-170           [-1, 2048, 1, 1]           4,096\n",
      "            ReLU-171           [-1, 2048, 1, 1]               0\n",
      "      Bottleneck-172           [-1, 2048, 1, 1]               0\n",
      "AdaptiveAvgPool2d-173           [-1, 2048, 1, 1]               0\n",
      "          Linear-174                   [-1, 10]          20,490\n",
      "          ResNet-175                   [-1, 10]               0\n",
      "================================================================\n",
      "Total params: 23,522,250\n",
      "Trainable params: 23,522,250\n",
      "Non-trainable params: 0\n",
      "----------------------------------------------------------------\n",
      "Input size (MB): 0.00\n",
      "Forward/backward pass size (MB): 5.18\n",
      "Params size (MB): 89.73\n",
      "Estimated Total Size (MB): 94.92\n",
      "----------------------------------------------------------------\n"
     ]
    }
   ],
   "source": [
    "from torchsummary import summary\n",
    "model=model.to(device)\n",
    "summary(model, input_size=(1, 28, 28))"
   ]
  },
  {
   "cell_type": "markdown",
   "id": "f1553e09",
   "metadata": {},
   "source": [
    "## training\n",
    "1. earlystopping\n",
    "1. 에포크 단위(100) 업뎃-> 한 에폭에서 미니 배치 마다 학습\n",
    "    -> 미니 배치마다 "
   ]
  },
  {
   "cell_type": "code",
   "execution_count": 245,
   "id": "364a4f9c",
   "metadata": {},
   "outputs": [],
   "source": [
    "epoches = 100\n",
    "\n",
    "# loss function and optimiyer\n",
    "loss_fn = nn.CrossEntropyLoss() \n",
    "\n",
    "# optimizer\n",
    "optimizer = torch.optim.Adam(model.parameters(), lr=1e-3) \n",
    "\n",
    "loss_list= []\n",
    "acc_list=[]\n",
    "batches = len(train_dataloader)\n",
    "val_batches = len(test_dataloader)"
   ]
  },
  {
   "cell_type": "code",
   "execution_count": 233,
   "id": "24f535bb",
   "metadata": {},
   "outputs": [],
   "source": [
    "import numpy as np\n",
    "\n",
    "class EarlyStopping:\n",
    "    def __init__(self,patience=10, verbose=True, delta=0, path='checkpoint/checkpoint.pt'):\n",
    "        self.patience=patience\n",
    "        self.verbose=verbose\n",
    "        self.counter=0\n",
    "        self.best_score = None\n",
    "        self.early_stop=False\n",
    "        self.val_loss_min = np.Inf\n",
    "        self.delta=delta\n",
    "        self.path=path\n",
    "    \n",
    "    def save_checkpoint(self,val_loss,model):\n",
    "        if self.verbose:\n",
    "            print(f'Validation loss decreased ({self.val_loss_min:.6f} --> {val_loss:.6f}).  Saving model ...')\n",
    "        torch.save(model.state_dict(), self.path)\n",
    "        self.val_loss_min = val_loss\n",
    "    \n",
    "    def __call__(self, val_loss, model):\n",
    "        score =- val_loss\n",
    "        \n",
    "        if self.best_score is None:\n",
    "            self.best_score=score\n",
    "            self.save_checkpoint(val_loss,model)\n",
    "        \n",
    "        elif self.best_score+self.delta>score:\n",
    "            self.counter+=1\n",
    "            print('Earlystopping 동작: {0} out of {1}'.format(self.counter,self.patience))\n",
    "            if self.counter>=self.patience:\n",
    "                self.early_stop=True\n",
    "        else:\n",
    "            self.best_score=score\n",
    "            self.save_checkpoint(val_loss,model)\n",
    "            self.counter=0"
   ]
  },
  {
   "cell_type": "code",
   "execution_count": 256,
   "id": "b5a31d13",
   "metadata": {},
   "outputs": [
    {
     "name": "stdout",
     "output_type": "stream",
     "text": [
      "epoch: 0\n"
     ]
    },
    {
     "name": "stderr",
     "output_type": "stream",
     "text": [
      "100%|█████████████████████████████████████████████████████████████████████████████████| 750/750 [00:20<00:00, 37.11it/s]\n",
      "100%|████████████████████████████████████████████████████████████████████████████████| 188/188 [00:01<00:00, 109.73it/s]\n"
     ]
    },
    {
     "name": "stdout",
     "output_type": "stream",
     "text": [
      "Validation loss decreased (inf --> 0.012295).  Saving model ...\n",
      "Epoch 1/10, training acc: 0.11052083333333333, validation acc: 0.1105\n",
      "epoch: 1\n"
     ]
    },
    {
     "name": "stderr",
     "output_type": "stream",
     "text": [
      "100%|█████████████████████████████████████████████████████████████████████████████████| 750/750 [00:20<00:00, 36.74it/s]\n",
      "100%|████████████████████████████████████████████████████████████████████████████████| 188/188 [00:01<00:00, 109.95it/s]\n"
     ]
    },
    {
     "name": "stdout",
     "output_type": "stream",
     "text": [
      "Earlystopping 동작: 1 out of 10\n",
      "Epoch 2/10, training acc: 0.11052083333333333, validation acc: 0.1105\n",
      "epoch: 2\n"
     ]
    },
    {
     "name": "stderr",
     "output_type": "stream",
     "text": [
      "100%|█████████████████████████████████████████████████████████████████████████████████| 750/750 [00:20<00:00, 36.94it/s]\n",
      "100%|████████████████████████████████████████████████████████████████████████████████| 188/188 [00:01<00:00, 109.69it/s]\n"
     ]
    },
    {
     "name": "stdout",
     "output_type": "stream",
     "text": [
      "Validation loss decreased (0.012295 --> 0.012212).  Saving model ...\n",
      "Epoch 3/10, training acc: 0.11052083333333333, validation acc: 0.1105\n",
      "epoch: 3\n"
     ]
    },
    {
     "name": "stderr",
     "output_type": "stream",
     "text": [
      "100%|█████████████████████████████████████████████████████████████████████████████████| 750/750 [00:20<00:00, 36.86it/s]\n",
      "100%|████████████████████████████████████████████████████████████████████████████████| 188/188 [00:01<00:00, 110.02it/s]\n"
     ]
    },
    {
     "name": "stdout",
     "output_type": "stream",
     "text": [
      "Earlystopping 동작: 1 out of 10\n",
      "Epoch 4/10, training acc: 0.11052083333333333, validation acc: 0.1105\n",
      "epoch: 4\n"
     ]
    },
    {
     "name": "stderr",
     "output_type": "stream",
     "text": [
      "100%|█████████████████████████████████████████████████████████████████████████████████| 750/750 [00:20<00:00, 36.88it/s]\n",
      "100%|████████████████████████████████████████████████████████████████████████████████| 188/188 [00:01<00:00, 109.54it/s]\n"
     ]
    },
    {
     "name": "stdout",
     "output_type": "stream",
     "text": [
      "Earlystopping 동작: 2 out of 10\n",
      "Epoch 5/10, training acc: 0.11052083333333333, validation acc: 0.1105\n",
      "epoch: 5\n"
     ]
    },
    {
     "name": "stderr",
     "output_type": "stream",
     "text": [
      "100%|█████████████████████████████████████████████████████████████████████████████████| 750/750 [00:20<00:00, 36.61it/s]\n",
      "100%|████████████████████████████████████████████████████████████████████████████████| 188/188 [00:01<00:00, 110.12it/s]\n"
     ]
    },
    {
     "name": "stdout",
     "output_type": "stream",
     "text": [
      "Earlystopping 동작: 3 out of 10\n",
      "Epoch 6/10, training acc: 0.11052083333333333, validation acc: 0.1105\n",
      "epoch: 6\n"
     ]
    },
    {
     "name": "stderr",
     "output_type": "stream",
     "text": [
      "100%|█████████████████████████████████████████████████████████████████████████████████| 750/750 [00:20<00:00, 36.78it/s]\n",
      "100%|████████████████████████████████████████████████████████████████████████████████| 188/188 [00:01<00:00, 109.22it/s]\n"
     ]
    },
    {
     "name": "stdout",
     "output_type": "stream",
     "text": [
      "Earlystopping 동작: 4 out of 10\n",
      "Epoch 7/10, training acc: 0.11052083333333333, validation acc: 0.1105\n",
      "epoch: 7\n"
     ]
    },
    {
     "name": "stderr",
     "output_type": "stream",
     "text": [
      "100%|█████████████████████████████████████████████████████████████████████████████████| 750/750 [00:20<00:00, 36.71it/s]\n",
      "100%|████████████████████████████████████████████████████████████████████████████████| 188/188 [00:01<00:00, 110.50it/s]\n"
     ]
    },
    {
     "name": "stdout",
     "output_type": "stream",
     "text": [
      "Earlystopping 동작: 5 out of 10\n",
      "Epoch 8/10, training acc: 0.11052083333333333, validation acc: 0.1105\n",
      "epoch: 8\n"
     ]
    },
    {
     "name": "stderr",
     "output_type": "stream",
     "text": [
      "100%|█████████████████████████████████████████████████████████████████████████████████| 750/750 [00:20<00:00, 36.58it/s]\n",
      "100%|████████████████████████████████████████████████████████████████████████████████| 188/188 [00:01<00:00, 108.89it/s]\n"
     ]
    },
    {
     "name": "stdout",
     "output_type": "stream",
     "text": [
      "Earlystopping 동작: 6 out of 10\n",
      "Epoch 9/10, training acc: 0.11052083333333333, validation acc: 0.1105\n",
      "epoch: 9\n"
     ]
    },
    {
     "name": "stderr",
     "output_type": "stream",
     "text": [
      "100%|█████████████████████████████████████████████████████████████████████████████████| 750/750 [00:20<00:00, 37.06it/s]\n",
      "100%|████████████████████████████████████████████████████████████████████████████████| 188/188 [00:01<00:00, 110.30it/s]\n"
     ]
    },
    {
     "name": "stdout",
     "output_type": "stream",
     "text": [
      "Earlystopping 동작: 7 out of 10\n",
      "Epoch 10/10, training acc: 0.11052083333333333, validation acc: 0.1105\n",
      "epoch: 10\n"
     ]
    },
    {
     "name": "stderr",
     "output_type": "stream",
     "text": [
      "100%|█████████████████████████████████████████████████████████████████████████████████| 750/750 [00:20<00:00, 36.99it/s]\n",
      "100%|████████████████████████████████████████████████████████████████████████████████| 188/188 [00:01<00:00, 109.79it/s]\n"
     ]
    },
    {
     "name": "stdout",
     "output_type": "stream",
     "text": [
      "Earlystopping 동작: 8 out of 10\n",
      "Epoch 11/10, training acc: 0.11052083333333333, validation acc: 0.1105\n",
      "epoch: 11\n"
     ]
    },
    {
     "name": "stderr",
     "output_type": "stream",
     "text": [
      "100%|█████████████████████████████████████████████████████████████████████████████████| 750/750 [00:20<00:00, 36.74it/s]\n",
      "100%|████████████████████████████████████████████████████████████████████████████████| 188/188 [00:01<00:00, 107.23it/s]\n"
     ]
    },
    {
     "name": "stdout",
     "output_type": "stream",
     "text": [
      "Earlystopping 동작: 9 out of 10\n",
      "Epoch 12/10, training acc: 0.11052083333333333, validation acc: 0.1105\n",
      "epoch: 12\n"
     ]
    },
    {
     "name": "stderr",
     "output_type": "stream",
     "text": [
      "100%|█████████████████████████████████████████████████████████████████████████████████| 750/750 [00:20<00:00, 36.49it/s]\n",
      "100%|████████████████████████████████████████████████████████████████████████████████| 188/188 [00:01<00:00, 109.30it/s]"
     ]
    },
    {
     "name": "stdout",
     "output_type": "stream",
     "text": [
      "Earlystopping 동작: 10 out of 10\n",
      "Early stopping !\n",
      "DONE\n"
     ]
    },
    {
     "name": "stderr",
     "output_type": "stream",
     "text": [
      "\n"
     ]
    }
   ],
   "source": [
    "#학습코드 정의\n",
    "from tqdm import tqdm\n",
    "import time\n",
    "\n",
    "early_stopping = EarlyStopping(patience=10 ,verbose=True)\n",
    "\n",
    "for epoch in range(epoches): #에포크 업데이트\n",
    "        \n",
    "    print(f\"epoch: {epoch}\")\n",
    "    tr_correct=0\n",
    "    tr_losses=0\n",
    "    process=tqdm((train_dataloader))\n",
    "    ################학습######################\n",
    "    for X,y in process:\n",
    "        X=X.to(device)\n",
    "        output=base(X)\n",
    "        y=y.to(device)\n",
    "        tr_loss=loss_fn(output, y)\n",
    "        tr_losses=+tr_loss.item()\n",
    "        \n",
    "        # 역전파\n",
    "        optimizer.zero_grad()\n",
    "        tr_loss.backward()\n",
    "        optimizer.step()\n",
    "        \n",
    "        #acc 계산\n",
    "        tr_correct += (output.argmax(1) == y).type(torch.float).sum().item()\n",
    "    \n",
    "    tr_losses/= len(train_dataloader)\n",
    "    tr_acc = tr_correct/len(train_dataloader.dataset) \n",
    "\n",
    "    #loss 표시\n",
    "    process.set_description(\"Loss: {:.4f}\".format(tr_losses))\n",
    "    \n",
    "    # ----------------- VALIDATION  ----------------- \n",
    "    val_losses = 0\n",
    "    correct=0\n",
    "    precision, recall, f1, accuracy = [], [], [], []\n",
    "    base.eval()\n",
    "    with torch.no_grad():\n",
    "        for X,y in tqdm(val_dataloader):\n",
    "            X=X.to(device)\n",
    "            y=y.to(device)\n",
    "            output = base(X) \n",
    "            val_losses=+loss_fn(output, y).item()\n",
    "            #acc 계산\n",
    "            correct += (output.argmax(1) == y).type(torch.float).sum().item()\n",
    "        \n",
    "    val_losses/=len(val_dataloader) \n",
    "    acc=correct/len(val_dataloader.dataset)  \n",
    "    \n",
    "    early_stopping(val_losses,base)\n",
    "    loss_list.append(val_losses)\n",
    "    acc_list.append(acc)\n",
    "\n",
    "    if early_stopping.early_stop==True:\n",
    "        print(\"Early stopping !\")\n",
    "        break\n",
    "    print(f\"Epoch {epoch+1}/{epochs}, training acc: {tr_acc}, validation acc: {acc}\")\n",
    "print(\"DONE\")"
   ]
  },
  {
   "cell_type": "code",
   "execution_count": 257,
   "id": "c35491a2",
   "metadata": {},
   "outputs": [
    {
     "data": {
      "image/png": "[encoded data removed]",
      "text/plain": [
       "<Figure size 432x288 with 1 Axes>"
      ]
     },
     "metadata": {
      "needs_background": "light"
     },
     "output_type": "display_data"
    }
   ],
   "source": [
    "xrange=range(len(loss_list))\n",
    "plt.plot(xrange,loss_list, \"r\")\n",
    "plt.xlabel('epoch')\n",
    "plt.ylabel('validation loss')\n",
    "plt.title('Loss graph')\n",
    "min_point=min(loss_list)\n",
    "plt.scatter(loss_list.index(min_point), min_point,s= 100,c='r',marker='.')\n",
    "plt.text(loss_list.index(min_point), min_point, min_point, c='g')\n",
    "#plt.scatter(16, loss_list[16],s= 100,c='r',marker='.')\n",
    "#plt.text(16, loss_list[16], loss_list[16], c='b')\n",
    "#plt.text(loss_list.index(min_point),0.948, acc_list.index(max_point), c='r')\n",
    "plt.show()"
   ]
  },
  {
   "cell_type": "code",
   "execution_count": 268,
   "id": "25e30502",
   "metadata": {},
   "outputs": [
    {
     "data": {
      "image/png": "[encoded data removed]",
      "text/plain": [
       "<Figure size 432x288 with 1 Axes>"
      ]
     },
     "metadata": {
      "needs_background": "light"
     },
     "output_type": "display_data"
    }
   ],
   "source": [
    "xrange=range(len(acc_list))\n",
    "plt.plot(xrange,acc_list, \"b\")\n",
    "plt.xlabel('epoch')\n",
    "plt.ylabel('val acc')\n",
    "plt.title('acc graph')\n",
    "max_point=max(acc_list)\n",
    "plt.scatter(acc_list.index(max_point), max_point,s= 100,c='r',marker='.')\n",
    "plt.text(acc_list.index(max_point), max_point, max_point, c='g')\n",
    "#plt.text(acc_list.index(max_point),0.985, acc_list.index(max_point), c='r')\n",
    "plt.show()"
   ]
  },
  {
   "cell_type": "markdown",
   "id": "b82e338c",
   "metadata": {},
   "source": [
    "## 평가"
   ]
  },
  {
   "cell_type": "code",
   "execution_count": 259,
   "id": "75983bc5",
   "metadata": {},
   "outputs": [],
   "source": [
    "from sklearn.metrics import classification_report\n",
    "\n",
    "def test(dataloader, model, loss_fn):\n",
    "    categories=[str(i) for i in range(10)]\n",
    "    \n",
    "    size = len(dataloader.dataset)\n",
    "    num_batches = len(dataloader)\n",
    "    model.eval()\n",
    "    total_loss, correct = 0, 0\n",
    "    with torch.no_grad():\n",
    "        cnt=0\n",
    "        preds = torch.tensor([]) #예측\n",
    "        targets = torch.tensor([]) #실제 정답\n",
    "        \n",
    "        for X, y in dataloader:\n",
    "            X, y = X.to(device), y.to(device)\n",
    "            pred = model(X)\n",
    "            total_loss += loss_fn(pred, y).item()\n",
    "            correct += (pred.argmax(1) == y).type(torch.float).sum().item()\n",
    "            \n",
    "            #클래스 별 precision-recall 계산\n",
    "            predicted=pred.argmax(1) #텐서형태임\n",
    "            \n",
    "            print('{}번째 step\\n'.format(cnt+1))\n",
    "            preds=torch.cat((preds,predicted.cpu()),0)\n",
    "            targets=torch.cat((targets,y.cpu()),0)\n",
    "            cnt+=1\n",
    "       \n",
    "        report_total=classification_report(targets.cpu(),preds.cpu(), target_names=categories, zero_division=0)\n",
    "\n",
    "    total_loss /= num_batches\n",
    "    correct /= size\n",
    "    \n",
    "    print(\"-------------total classification report-------------------\\n\")\n",
    "    print('total classes: ',categories)\n",
    "    print('클래스 갯수: ', len(categories))\n",
    "    \n",
    "    print(report_total)\n",
    "    return total_loss, correct"
   ]
  },
  {
   "cell_type": "code",
   "execution_count": 265,
   "id": "489b8c73",
   "metadata": {},
   "outputs": [
    {
     "name": "stdout",
     "output_type": "stream",
     "text": [
      "1번째 step\n",
      "\n",
      "2번째 step\n",
      "\n",
      "3번째 step\n",
      "\n",
      "4번째 step\n",
      "\n",
      "5번째 step\n",
      "\n",
      "6번째 step\n",
      "\n",
      "7번째 step\n",
      "\n",
      "8번째 step\n",
      "\n",
      "9번째 step\n",
      "\n",
      "10번째 step\n",
      "\n",
      "11번째 step\n",
      "\n",
      "12번째 step\n",
      "\n",
      "13번째 step\n",
      "\n",
      "14번째 step\n",
      "\n",
      "15번째 step\n",
      "\n",
      "16번째 step\n",
      "\n",
      "17번째 step\n",
      "\n",
      "18번째 step\n",
      "\n",
      "19번째 step\n",
      "\n",
      "20번째 step\n",
      "\n",
      "21번째 step\n",
      "\n",
      "22번째 step\n",
      "\n",
      "23번째 step\n",
      "\n",
      "24번째 step\n",
      "\n",
      "25번째 step\n",
      "\n",
      "26번째 step\n",
      "\n",
      "27번째 step\n",
      "\n",
      "28번째 step\n",
      "\n",
      "29번째 step\n",
      "\n",
      "30번째 step\n",
      "\n",
      "31번째 step\n",
      "\n",
      "32번째 step\n",
      "\n",
      "33번째 step\n",
      "\n",
      "34번째 step\n",
      "\n",
      "35번째 step\n",
      "\n",
      "36번째 step\n",
      "\n",
      "37번째 step\n",
      "\n",
      "38번째 step\n",
      "\n",
      "39번째 step\n",
      "\n",
      "40번째 step\n",
      "\n",
      "41번째 step\n",
      "\n",
      "42번째 step\n",
      "\n",
      "43번째 step\n",
      "\n",
      "44번째 step\n",
      "\n",
      "45번째 step\n",
      "\n",
      "46번째 step\n",
      "\n",
      "47번째 step\n",
      "\n",
      "48번째 step\n",
      "\n",
      "49번째 step\n",
      "\n",
      "50번째 step\n",
      "\n",
      "51번째 step\n",
      "\n",
      "52번째 step\n",
      "\n",
      "53번째 step\n",
      "\n",
      "54번째 step\n",
      "\n",
      "55번째 step\n",
      "\n",
      "56번째 step\n",
      "\n",
      "57번째 step\n",
      "\n",
      "58번째 step\n",
      "\n",
      "59번째 step\n",
      "\n",
      "60번째 step\n",
      "\n",
      "61번째 step\n",
      "\n",
      "62번째 step\n",
      "\n",
      "63번째 step\n",
      "\n",
      "64번째 step\n",
      "\n",
      "65번째 step\n",
      "\n",
      "66번째 step\n",
      "\n",
      "67번째 step\n",
      "\n",
      "68번째 step\n",
      "\n",
      "69번째 step\n",
      "\n",
      "70번째 step\n",
      "\n",
      "71번째 step\n",
      "\n",
      "72번째 step\n",
      "\n",
      "73번째 step\n",
      "\n",
      "74번째 step\n",
      "\n",
      "75번째 step\n",
      "\n",
      "76번째 step\n",
      "\n",
      "77번째 step\n",
      "\n",
      "78번째 step\n",
      "\n",
      "79번째 step\n",
      "\n",
      "80번째 step\n",
      "\n",
      "81번째 step\n",
      "\n",
      "82번째 step\n",
      "\n",
      "83번째 step\n",
      "\n",
      "84번째 step\n",
      "\n",
      "85번째 step\n",
      "\n",
      "86번째 step\n",
      "\n",
      "87번째 step\n",
      "\n",
      "88번째 step\n",
      "\n",
      "89번째 step\n",
      "\n",
      "90번째 step\n",
      "\n",
      "91번째 step\n",
      "\n",
      "92번째 step\n",
      "\n",
      "93번째 step\n",
      "\n",
      "94번째 step\n",
      "\n",
      "95번째 step\n",
      "\n",
      "96번째 step\n",
      "\n",
      "97번째 step\n",
      "\n",
      "98번째 step\n",
      "\n",
      "99번째 step\n",
      "\n",
      "100번째 step\n",
      "\n",
      "101번째 step\n",
      "\n",
      "102번째 step\n",
      "\n",
      "103번째 step\n",
      "\n",
      "104번째 step\n",
      "\n",
      "105번째 step\n",
      "\n",
      "106번째 step\n",
      "\n",
      "107번째 step\n",
      "\n",
      "108번째 step\n",
      "\n",
      "109번째 step\n",
      "\n",
      "110번째 step\n",
      "\n",
      "111번째 step\n",
      "\n",
      "112번째 step\n",
      "\n",
      "113번째 step\n",
      "\n",
      "114번째 step\n",
      "\n",
      "115번째 step\n",
      "\n",
      "116번째 step\n",
      "\n",
      "117번째 step\n",
      "\n",
      "118번째 step\n",
      "\n",
      "119번째 step\n",
      "\n",
      "120번째 step\n",
      "\n",
      "121번째 step\n",
      "\n",
      "122번째 step\n",
      "\n",
      "123번째 step\n",
      "\n",
      "124번째 step\n",
      "\n",
      "125번째 step\n",
      "\n",
      "126번째 step\n",
      "\n",
      "127번째 step\n",
      "\n",
      "128번째 step\n",
      "\n",
      "129번째 step\n",
      "\n",
      "130번째 step\n",
      "\n",
      "131번째 step\n",
      "\n",
      "132번째 step\n",
      "\n",
      "133번째 step\n",
      "\n",
      "134번째 step\n",
      "\n",
      "135번째 step\n",
      "\n",
      "136번째 step\n",
      "\n",
      "137번째 step\n",
      "\n",
      "138번째 step\n",
      "\n",
      "139번째 step\n",
      "\n",
      "140번째 step\n",
      "\n",
      "141번째 step\n",
      "\n",
      "142번째 step\n",
      "\n",
      "143번째 step\n",
      "\n",
      "144번째 step\n",
      "\n",
      "145번째 step\n",
      "\n",
      "146번째 step\n",
      "\n",
      "147번째 step\n",
      "\n",
      "148번째 step\n",
      "\n",
      "149번째 step\n",
      "\n",
      "150번째 step\n",
      "\n",
      "151번째 step\n",
      "\n",
      "152번째 step\n",
      "\n",
      "153번째 step\n",
      "\n",
      "154번째 step\n",
      "\n",
      "155번째 step\n",
      "\n",
      "156번째 step\n",
      "\n",
      "157번째 step\n",
      "\n",
      "-------------total classification report-------------------\n",
      "\n",
      "total classes:  ['0', '1', '2', '3', '4', '5', '6', '7', '8', '9']\n",
      "클래스 갯수:  10\n",
      "              precision    recall  f1-score   support\n",
      "\n",
      "           0       0.00      0.00      0.00       980\n",
      "           1       0.02      0.00      0.00      1135\n",
      "           2       0.03      0.01      0.01      1032\n",
      "           3       0.04      0.01      0.02      1010\n",
      "           4       0.00      0.00      0.00       982\n",
      "           5       0.09      0.06      0.07       892\n",
      "           6       0.12      0.85      0.21       958\n",
      "           7       0.00      0.00      0.00      1028\n",
      "           8       0.09      0.20      0.13       974\n",
      "           9       0.00      0.00      0.00      1009\n",
      "\n",
      "    accuracy                           0.11     10000\n",
      "   macro avg       0.04      0.11      0.04     10000\n",
      "weighted avg       0.04      0.11      0.04     10000\n",
      "\n"
     ]
    },
    {
     "data": {
      "text/plain": [
       "(2.304004477847154, 0.1073)"
      ]
     },
     "execution_count": 265,
     "metadata": {},
     "output_type": "execute_result"
    }
   ],
   "source": [
    "test(test_dataloader, base, loss_fn)"
   ]
  },
  {
   "cell_type": "code",
   "execution_count": 266,
   "id": "b4ac7cc6",
   "metadata": {},
   "outputs": [
    {
     "name": "stderr",
     "output_type": "stream",
     "text": [
      "100%|█████████████████████████████████████████████████████████████████████████████████| 157/157 [00:01<00:00, 98.66it/s]\n"
     ]
    }
   ],
   "source": [
    "test_acc=0\n",
    "test_loss=0\n",
    "test_correct=0\n",
    "with torch.no_grad():\n",
    "    for X,y in tqdm(test_dataloader):\n",
    "        X=X.to(device)\n",
    "        y=y.to(device)\n",
    "        output = base(X) # this get's the prediction from the network\n",
    "        test_loss=+loss_fn(output, y).item()\n",
    "        \n",
    "        #acc 계산\n",
    "        test_correct += (output.argmax(1) == y).type(torch.float).sum().item()\n",
    "        \n",
    "        \n",
    "    \n",
    "test_loss/=len(test_dataloader) \n",
    "test_acc=test_correct/len(test_dataloader.dataset)  "
   ]
  },
  {
   "cell_type": "code",
   "execution_count": 267,
   "id": "163f89bb",
   "metadata": {
    "scrolled": true
   },
   "outputs": [
    {
     "data": {
      "text/plain": [
       "0.1073"
      ]
     },
     "execution_count": 267,
     "metadata": {},
     "output_type": "execute_result"
    }
   ],
   "source": [
    "test_acc"
   ]
  },
  {
   "cell_type": "code",
   "execution_count": 264,
   "id": "7297b11a",
   "metadata": {},
   "outputs": [
    {
     "data": {
      "image/png": "[encoded data removed]",
      "text/plain": [
       "<Figure size 576x576 with 10 Axes>"
      ]
     },
     "metadata": {
      "needs_background": "light"
     },
     "output_type": "display_data"
    }
   ],
   "source": [
    "fig = plt.figure(figsize=(8, 8))\n",
    "cols, rows = 5,2\n",
    "samples_idx=random.sample(range(len(test_data)),10)\n",
    "for i in range(0, cols * rows ):\n",
    "    idx=samples_idx[i]\n",
    "    img,label=test_data[idx]\n",
    "    fig.add_subplot(rows, cols, i+1)\n",
    "    output=base(test_data[idx][0].unsqueeze(0).to(device))\n",
    "    plt.title(\"라벨: \"+str(label)+\", 예측: {}\".format(output.argmax().item()) )\n",
    "    plt.axis(\"off\")\n",
    "    plt.imshow(img.permute(1,2,0), cmap=\"gray\")\n",
    "plt.show()\n",
    "    \n",
    "    "
   ]
  },
  {
   "cell_type": "code",
   "execution_count": 132,
   "id": "9d2a9471",
   "metadata": {},
   "outputs": [
    {
     "data": {
      "image/png": "[encoded data removed]",
      "text/plain": [
       "<Figure size 432x288 with 1 Axes>"
      ]
     },
     "metadata": {
      "needs_background": "light"
     },
     "output_type": "display_data"
    },
    {
     "name": "stdout",
     "output_type": "stream",
     "text": [
      "예측값: 1\n"
     ]
    },
    {
     "data": {
      "image/png": "[encoded data removed]",
      "text/plain": [
       "<Figure size 432x288 with 1 Axes>"
      ]
     },
     "metadata": {
      "needs_background": "light"
     },
     "output_type": "display_data"
    },
    {
     "name": "stdout",
     "output_type": "stream",
     "text": [
      "예측값: 1\n"
     ]
    },
    {
     "data": {
      "image/png": "[encoded data removed]",
      "text/plain": [
       "<Figure size 432x288 with 1 Axes>"
      ]
     },
     "metadata": {
      "needs_background": "light"
     },
     "output_type": "display_data"
    },
    {
     "name": "stdout",
     "output_type": "stream",
     "text": [
      "예측값: 1\n"
     ]
    },
    {
     "data": {
      "image/png": "[encoded data removed]",
      "text/plain": [
       "<Figure size 432x288 with 1 Axes>"
      ]
     },
     "metadata": {
      "needs_background": "light"
     },
     "output_type": "display_data"
    },
    {
     "name": "stdout",
     "output_type": "stream",
     "text": [
      "예측값: 7\n"
     ]
    }
   ],
   "source": [
    "from PIL import Image\n",
    "from torchvision import transforms\n",
    "import os\n",
    "root_dir=\"/home/files/pytorch_practice\"\n",
    "covert=transforms.ToTensor()\n",
    "sample_1=Image.open(os.path.join(root_dir, '1sam.jpg')).convert(\"L\")\n",
    "sample_2=Image.open(os.path.join(root_dir, '6sam.jpg')).convert(\"L\")\n",
    "sample_3=Image.open(os.path.join(root_dir, '7sam.jpg')).convert(\"L\")\n",
    "sample_4=Image.open(os.path.join(root_dir, '7re.jpg')).convert(\"L\")\n",
    "samples=[sample_1,sample_2,sample_3,sample_4]\n",
    "new_samples=[]\n",
    "for img in samples:\n",
    "    img=img.resize((28,28))\n",
    "    img=convert(img)\n",
    "    new_samples.append(img)\n",
    "    plt.imshow(img.permute(1,2,0), cmap='gray')\n",
    "    plt.show()\n",
    "    print(f\"예측값: {model(img.unsqueeze(0).to(device)).argmax().item()}\")\n",
    "    #print(model(img.unsqueeze(0).to(device)).max(1))"
   ]
  }
 ],
 "metadata": {
  "kernelspec": {
   "display_name": "Python 3 (ipykernel)",
   "language": "python",
   "name": "python3"
  },
  "language_info": {
   "codemirror_mode": {
    "name": "ipython",
    "version": 3
   },
   "file_extension": ".py",
   "mimetype": "text/x-python",
   "name": "python",
   "nbconvert_exporter": "python",
   "pygments_lexer": "ipython3",
   "version": "3.7.11"
  }
 },
 "nbformat": 4,
 "nbformat_minor": 5
}
